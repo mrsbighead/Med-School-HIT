{
 "cells": [
  {
   "cell_type": "code",
   "execution_count": 58,
   "metadata": {},
   "outputs": [],
   "source": [
    "import pandas as pd\n",
    "import numpy as np\n",
    "from nltk.corpus import stopwords\n",
    "from collections import Counter\n",
    "import matplotlib as mpl\n",
    "from matplotlib import pyplot as plt\n",
    "%matplotlib inline\n",
    "import seaborn as sns"
   ]
  },
  {
   "cell_type": "code",
   "execution_count": 22,
   "metadata": {
    "scrolled": true
   },
   "outputs": [],
   "source": [
    "med_list = []\n",
    "with open(\"/home/ricardo/R/datasets/med/med.txt\") as file:\n",
    "    for line in file:\n",
    "        med_list.append(line.split())"
   ]
  },
  {
   "cell_type": "code",
   "execution_count": 30,
   "metadata": {},
   "outputs": [],
   "source": [
    "clean_list = []\n",
    "for sublist in med_list:\n",
    "    for elem in sublist:\n",
    "        if len(elem) > 1:\n",
    "            elem = elem.replace(',','')\n",
    "            elem = elem.replace('.','')\n",
    "            clean_list.append(elem.lower())"
   ]
  },
  {
   "cell_type": "code",
   "execution_count": 31,
   "metadata": {},
   "outputs": [
    {
     "name": "stdout",
     "output_type": "stream",
     "text": [
      "['objectives', 'and', 'goals', 'informatics', 'data-driven', 'medicine', '(iddm)', 'is', 'foundation', 'area']\n"
     ]
    }
   ],
   "source": [
    "print(clean_list[0:10])"
   ]
  },
  {
   "cell_type": "code",
   "execution_count": 32,
   "metadata": {},
   "outputs": [],
   "source": [
    "s=set(stopwords.words('english'))"
   ]
  },
  {
   "cell_type": "code",
   "execution_count": 33,
   "metadata": {},
   "outputs": [],
   "source": [
    "without_stopwords = list(filter(lambda x: not x in s, clean_list))"
   ]
  },
  {
   "cell_type": "code",
   "execution_count": 34,
   "metadata": {},
   "outputs": [],
   "source": [
    "dict_med = Counter(without_stopwords)"
   ]
  },
  {
   "cell_type": "code",
   "execution_count": 35,
   "metadata": {},
   "outputs": [
    {
     "data": {
      "text/plain": [
       "359"
      ]
     },
     "execution_count": 35,
     "metadata": {},
     "output_type": "execute_result"
    }
   ],
   "source": [
    "len(dict_med)"
   ]
  },
  {
   "cell_type": "code",
   "execution_count": 36,
   "metadata": {},
   "outputs": [
    {
     "name": "stdout",
     "output_type": "stream",
     "text": [
      "Counter({'students': 13, 'medicine': 12, 'clinical': 12, 'research': 9, 'biomedical': 8, 'informatics': 7, 'care': 7, 'methods': 7, 'patient': 6, 'patients': 6, 'data': 5, 'information': 5, 'course': 5, 'systems': 5, 'skills': 5, 'area': 4, 'provide': 4, 'requirements': 4, 'health': 4, 'md': 4, 'within': 3, 'program': 3, 'new': 3, 'molecular': 3, 'medical': 3, 'iddm': 3, 'management': 3, 'analysis': 3, 'integration': 3, 'units': 3, 'practice': 3, 'outcomes': 3, 'microsystem': 3, 'work': 3, 'thesis': 3, 'laboratory': 3, 'best': 3, 'matlab': 3, 'curriculum': 3, 'goals': 2, 'data-driven': 2, 'scholarly': 2, 'concentration': 2, 'big': 2, 'databases': 2, 'enabling': 2, 'precision': 2, 'topics': 2, 'biological': 2, 'classes': 2, 'graduate': 2, 'take': 2, 'fulfill': 2, 'degree': 2, 'microsystems': 2, 'experience': 2, 'cmc': 2, 'two': 2, 'learning': 2, 'direct': 2, 'first': 2, 'learn': 2, 'groups': 2, 'understanding': 2, 'student': 2, 'emphasis': 2, 'well': 2, 'importance': 2, 'issues': 2, 'introduction': 2, 'quantitative': 2, 'introduce': 2, 'applying': 2, 'problem': 2, 'sets': 2, 'assigned': 2, 'diagnostic': 2, 'bioinformatics': 2, 'diagnosis': 2, 'case': 2, 'technology': 2, 'development': 2, 'thread': 2, 'major': 2, 'standardized': 2, 'objectives': 1, '(iddm)': 1, 'foundation': 1, 'explores': 1, 'transformative': 1, 'paradigm': 1, 'called': 1, 'revolutionizing': 1, 'proliferation': 1, 'huge': 1, 'imaging': 1, 'driving': 1, 'discoveries': 1, 'informing': 1, 'insights': 1, 'important': 1, 'emerging': 1, 'introducing': 1, 'fundamental': 1, 'computational': 1, 'structuring': 1, 'analyzing': 1, 'large-scale': 1, 'along': 1, 'pipeline': 1, 'interpretation': 1, 'datasets': 1, 'context': 1, 'pursue': 1, 'conjunction': 1, 'application': 1, 'immunology': 1, 'required': 1, 'complete': 1, 'including:': 1, 'biomedin': 1, '205:': 1, '(1': 1, 'unit': 1, 'may': 1, 'repeated': 1, 'total': 1, 'units)': 1, '2-4': 1, 'core': 1, 'selected': 1, 'interested': 1, 'completing': 1, '12': 1, 'select': 1, 'encouraged': 1, 'devise': 1, 'plan': 1, 'present': 1, 'director': 1, 'clerkship:': 1, 'longitudinal': 1, 'clerkship': 1, '(cmc)': 1, 'introduced': 1, 'healthcare': 1, 'delivery': 1, 'impact': 1, 'quality': 1, 'day': 1, 'divided': 1, 'components:': 1, 'assume': 1, 'authentic': 1, 'roles': 1, 'improvement': 1, 'teams': 1, 'acquire': 1, 'small': 1, 'kanbar': 1, 'center': 1, 'simulation': 1, 'subsequently': 1, 'settings': 1, 'students’': 1, 'coaches': 1, 'guide': 1, 'every': 1, 'step': 1, 'way': 1, '1250': 1, 'scientific': 1, 'inquiry:': 1, 'biostatistics': 1, 'responsible': 1, 'conduct': 1, '(includes': 1, '501b)': 1, 'overarching': 1, 'instill': 1, 'value': 1, 'yale': 1, 'primer': 1, 'success': 1, 'placed': 1, 'choose': 1, 'excellent': 1, 'project': 1, 'mentor': 1, 'areas': 1, 'epidemiology': 1, 'public': 1, 'international': 1, 'humanities': 1, 'instructed': 1, 'environment': 1, 'selection': 1, 'possible': 1, 'up-to-date': 1, 'related': 1, 'human': 1, 'investigation': 1, 'hic': 1, 'approval': 1, 'protocols': 1, 'second': 1, 'basics': 1, 'designing': 1, 'studies': 1, 'including': 1, 'use': 1, 'power': 1, 'calculations': 1, 'proper': 1, 'control': 1, 'practical': 1, 'biostatistical': 1, 'measurements': 1, 'applications': 1, 'efficient': 1, 'searching': 1, 'literature': 1, 'online': 1, 'open': 1, 'md/phd': 1, 'jn': 1, 'forrest': 1, 'faculty': 1, 'staff': 1, 'hst': 1, '015': 1, 'director:': 1, 'matthew': 1, 'p': 1, 'frosch': 1, 'phd': 1, 'matthew_frosch@hmsharvardedu': 1, 'hands-on': 1, 'session': 1, 'topic': 1, 'techniques': 1, 'modeled': 1, 'lessons': 1, 'learned': 1, 'throughout': 1, 'preclerkship': 1, 'download': 1, 'starts': 1, 'relevant': 1, 'discussion': 1, 'principles': 1, 'testing': 1, 'somatic': 1, 'germline': 1, 'diseases': 1, 'using': 1, 'fish': 1, 'genotyping': 1, 'array': 1, 'cgh': 1, 'next': 1, 'generation': 1, 'sequencing': 1, 'technologies': 1, 'conferences': 1, 'emphasize': 1, 'correlation': 1, 'multiple': 1, 'tests': 1, 'lectures': 1, 'sessions': 1, 'key': 1, 'concepts': 1, 'sequence': 1, 'tools': 1, 'become': 1, 'indispensable': 1, 'tool': 1, 'effective': 1, 'ensuring': 1, 'safety': 1, 'finding': 1, 'evidence': 1, 'practicing': 1, 'cost-effective': 1, 'systems-based': 1, 'providing': 1, 'tailored': 1, 'decision-support': 1, 'individual': 1, 'cannot': 1, 'accomplished': 1, 'without': 1, 'sophisticated': 1, 'disciplinary': 1, 'field': 1, 'fosters': 1, 'implementation': 1, 'complex': 1, 'technological': 1, 'interventions': 1, 'designed': 1, 'improve': 1, 'four-year': 1, 'provides': 1, 'opportunity': 1, 'master': 1, 'knowledge': 1, 'attitudes': 1, 'discipline': 1, 'themes': 1, 'listed': 1, 'location': 1, 'phase:': 1, 'fundamentals': 1, '(fnd)': 1, 'year': 1, '(mcy)': 1, 'differentiation': 1, '(d&i)': 1, 'necessary': 1, 'working': 1, 'evaluating': 1, 'patients:': 1, 'decision': 1, 'making': 1, 'taking': 1, 'histories': 1, 'performing': 1, 'physical': 1, 'exams': 1, 'system-based': 1, 'developing': 1, 'differential': 1, 'establishing': 1, 'relationships': 1, 'across': 1, 'cultures': 1, 'genders': 1, 'experiences': 1, 'occur': 1, 'hospitals': 1, 'practices': 1, 'community': 1, 'sites': 1, 'seminars': 1, 'workshops': 1, 'discussions': 1, 'chronically': 1, 'ill': 1, 'leapp': 1, 'effects': 1, 'disease': 1, 'family': 1, 'quality-of-life': 1, 'assessment': 1, 'utilizes': 1, 'grading': 1, 'pass/fail': 1})\n"
     ]
    }
   ],
   "source": [
    "print(dict_med)"
   ]
  },
  {
   "cell_type": "code",
   "execution_count": 93,
   "metadata": {},
   "outputs": [],
   "source": [
    "new_dict = {}\n",
    "for key in dict_med:\n",
    "    if dict_med[key]>3:\n",
    "        new_dict[key] = dict_med[key]\n",
    "       "
   ]
  },
  {
   "cell_type": "code",
   "execution_count": 94,
   "metadata": {},
   "outputs": [
    {
     "name": "stdout",
     "output_type": "stream",
     "text": [
      "{'informatics': 7, 'medicine': 12, 'area': 4, 'data': 5, 'clinical': 12, 'biomedical': 8, 'care': 7, 'provide': 4, 'students': 13, 'information': 5, 'methods': 7, 'research': 9, 'requirements': 4, 'course': 5, 'systems': 5, 'patient': 6, 'skills': 5, 'health': 4, 'patients': 6, 'md': 4}\n"
     ]
    }
   ],
   "source": [
    "print(new_dict)"
   ]
  },
  {
   "cell_type": "code",
   "execution_count": 95,
   "metadata": {},
   "outputs": [],
   "source": [
    "words_df = pd.DataFrame(list(new_dict.items()), columns=['word', 'wordscount'])"
   ]
  },
  {
   "cell_type": "code",
   "execution_count": 96,
   "metadata": {},
   "outputs": [
    {
     "data": {
      "text/html": [
       "<div>\n",
       "<style scoped>\n",
       "    .dataframe tbody tr th:only-of-type {\n",
       "        vertical-align: middle;\n",
       "    }\n",
       "\n",
       "    .dataframe tbody tr th {\n",
       "        vertical-align: top;\n",
       "    }\n",
       "\n",
       "    .dataframe thead th {\n",
       "        text-align: right;\n",
       "    }\n",
       "</style>\n",
       "<table border=\"1\" class=\"dataframe\">\n",
       "  <thead>\n",
       "    <tr style=\"text-align: right;\">\n",
       "      <th></th>\n",
       "      <th>word</th>\n",
       "      <th>wordscount</th>\n",
       "    </tr>\n",
       "  </thead>\n",
       "  <tbody>\n",
       "    <tr>\n",
       "      <th>0</th>\n",
       "      <td>informatics</td>\n",
       "      <td>7</td>\n",
       "    </tr>\n",
       "    <tr>\n",
       "      <th>1</th>\n",
       "      <td>medicine</td>\n",
       "      <td>12</td>\n",
       "    </tr>\n",
       "    <tr>\n",
       "      <th>2</th>\n",
       "      <td>area</td>\n",
       "      <td>4</td>\n",
       "    </tr>\n",
       "    <tr>\n",
       "      <th>3</th>\n",
       "      <td>data</td>\n",
       "      <td>5</td>\n",
       "    </tr>\n",
       "    <tr>\n",
       "      <th>4</th>\n",
       "      <td>clinical</td>\n",
       "      <td>12</td>\n",
       "    </tr>\n",
       "    <tr>\n",
       "      <th>5</th>\n",
       "      <td>biomedical</td>\n",
       "      <td>8</td>\n",
       "    </tr>\n",
       "    <tr>\n",
       "      <th>6</th>\n",
       "      <td>care</td>\n",
       "      <td>7</td>\n",
       "    </tr>\n",
       "    <tr>\n",
       "      <th>7</th>\n",
       "      <td>provide</td>\n",
       "      <td>4</td>\n",
       "    </tr>\n",
       "    <tr>\n",
       "      <th>8</th>\n",
       "      <td>students</td>\n",
       "      <td>13</td>\n",
       "    </tr>\n",
       "    <tr>\n",
       "      <th>9</th>\n",
       "      <td>information</td>\n",
       "      <td>5</td>\n",
       "    </tr>\n",
       "    <tr>\n",
       "      <th>10</th>\n",
       "      <td>methods</td>\n",
       "      <td>7</td>\n",
       "    </tr>\n",
       "    <tr>\n",
       "      <th>11</th>\n",
       "      <td>research</td>\n",
       "      <td>9</td>\n",
       "    </tr>\n",
       "    <tr>\n",
       "      <th>12</th>\n",
       "      <td>requirements</td>\n",
       "      <td>4</td>\n",
       "    </tr>\n",
       "    <tr>\n",
       "      <th>13</th>\n",
       "      <td>course</td>\n",
       "      <td>5</td>\n",
       "    </tr>\n",
       "    <tr>\n",
       "      <th>14</th>\n",
       "      <td>systems</td>\n",
       "      <td>5</td>\n",
       "    </tr>\n",
       "    <tr>\n",
       "      <th>15</th>\n",
       "      <td>patient</td>\n",
       "      <td>6</td>\n",
       "    </tr>\n",
       "    <tr>\n",
       "      <th>16</th>\n",
       "      <td>skills</td>\n",
       "      <td>5</td>\n",
       "    </tr>\n",
       "    <tr>\n",
       "      <th>17</th>\n",
       "      <td>health</td>\n",
       "      <td>4</td>\n",
       "    </tr>\n",
       "    <tr>\n",
       "      <th>18</th>\n",
       "      <td>patients</td>\n",
       "      <td>6</td>\n",
       "    </tr>\n",
       "    <tr>\n",
       "      <th>19</th>\n",
       "      <td>md</td>\n",
       "      <td>4</td>\n",
       "    </tr>\n",
       "  </tbody>\n",
       "</table>\n",
       "</div>"
      ],
      "text/plain": [
       "            word  wordscount\n",
       "0    informatics           7\n",
       "1       medicine          12\n",
       "2           area           4\n",
       "3           data           5\n",
       "4       clinical          12\n",
       "5     biomedical           8\n",
       "6           care           7\n",
       "7        provide           4\n",
       "8       students          13\n",
       "9    information           5\n",
       "10       methods           7\n",
       "11      research           9\n",
       "12  requirements           4\n",
       "13        course           5\n",
       "14       systems           5\n",
       "15       patient           6\n",
       "16        skills           5\n",
       "17        health           4\n",
       "18      patients           6\n",
       "19            md           4"
      ]
     },
     "execution_count": 96,
     "metadata": {},
     "output_type": "execute_result"
    }
   ],
   "source": [
    "words_df"
   ]
  },
  {
   "cell_type": "code",
   "execution_count": 97,
   "metadata": {},
   "outputs": [
    {
     "data": {
      "text/plain": [
       "(array([ 0,  1,  2,  3,  4,  5,  6,  7,  8,  9, 10, 11, 12, 13, 14, 15, 16,\n",
       "        17, 18, 19]), <a list of 20 Text xticklabel objects>)"
      ]
     },
     "execution_count": 97,
     "metadata": {},
     "output_type": "execute_result"
    },
    {
     "data": {
      "image/png": "[encoded data removed]",
      "text/plain": [
       "<Figure size 432x288 with 1 Axes>"
      ]
     },
     "metadata": {},
     "output_type": "display_data"
    }
   ],
   "source": [
    "g = sns.barplot(x=\"word\", y=\"wordscount\", data=words_df);\n",
    "#g.set_xticklabels(rotation=30)\n",
    "plt.xticks(rotation = 45)\n",
    "#sns.countplot(x=\"word\", data=words_df, palette=\"Greens_d\");"
   ]
  },
  {
   "cell_type": "code",
   "execution_count": null,
   "metadata": {},
   "outputs": [],
   "source": []
  }
 ],
 "metadata": {
  "kernelspec": {
   "display_name": "Python 3",
   "language": "python",
   "name": "python3"
  },
  "language_info": {
   "codemirror_mode": {
    "name": "ipython",
    "version": 3
   },
   "file_extension": ".py",
   "mimetype": "text/x-python",
   "name": "python",
   "nbconvert_exporter": "python",
   "pygments_lexer": "ipython3",
   "version": "3.6.5"
  }
 },
 "nbformat": 4,
 "nbformat_minor": 2
}
